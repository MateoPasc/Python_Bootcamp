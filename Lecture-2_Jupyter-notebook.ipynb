{
 "cells": [
  {
   "cell_type": "markdown",
   "metadata": {},
   "source": [
    "This is a Markdown cell. You can insert text here."
   ]
  },
  {
   "cell_type": "markdown",
   "metadata": {},
   "source": [
    "<img src= \"https://upload.wikimedia.org/wikipedia/commons/9/95/Hubble_captures_crisp_new_image_of_Jupiter_and_Europa_%2850354436493%29.jpg\" />\n"
   ]
  },
  {
   "cell_type": "markdown",
   "metadata": {
    "vscode": {
     "languageId": "python"
    }
   },
   "source": [
    "The attractive force keeping Jupiter in orbit around the Sun is given by Newton's law of gravitation:\n",
    "\n",
    "$F = G_N \\frac{m_1 m_2}{r^2}$"
   ]
  },
  {
   "cell_type": "code",
   "execution_count": 11,
   "metadata": {},
   "outputs": [
    {
     "name": "stdout",
     "output_type": "stream",
     "text": [
      "4.16e+23\n"
     ]
    }
   ],
   "source": [
    "Mass_Sun = 1.989E30             # kg\n",
    "Mass_Jupiter = 1.8982E27        # kg\n",
    "\n",
    "Aphelion = 8.163E11             # m\n",
    "Perihelion = 7.405E11           # m\n",
    "Average_distance = (Aphelion + Perihelion) / 2 \n",
    "\n",
    "G_N = 6.674E-11                 # kg^-1 m^3 s^2\n",
    "\n",
    "F = G_N * Mass_Jupiter * Mass_Sun / Average_distance**2\n",
    "\n",
    "print(f\"{F:.3g}\")               # prints to 3 s.f.\n"
   ]
  }
 ],
 "metadata": {
  "kernelspec": {
   "display_name": "Python 3.8.9 64-bit ('3.8.9')",
   "language": "python",
   "name": "python3"
  },
  "language_info": {
   "codemirror_mode": {
    "name": "ipython",
    "version": 3
   },
   "file_extension": ".py",
   "mimetype": "text/x-python",
   "name": "python",
   "nbconvert_exporter": "python",
   "pygments_lexer": "ipython3",
   "version": "3.8.9"
  },
  "orig_nbformat": 4,
  "vscode": {
   "interpreter": {
    "hash": "0086907389b71d27ce9378d272f9918cd3700413b2366a0f1641b56ae3f53027"
   }
  }
 },
 "nbformat": 4,
 "nbformat_minor": 2
}
